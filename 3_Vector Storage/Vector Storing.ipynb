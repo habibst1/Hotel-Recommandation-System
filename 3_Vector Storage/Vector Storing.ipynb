{
 "cells": [
  {
   "cell_type": "code",
   "execution_count": 1,
   "id": "3271e0d4-2ed7-4eec-a4d1-292dd37353f0",
   "metadata": {},
   "outputs": [],
   "source": [
    "import os\n",
    "os.environ['KMP_DUPLICATE_LIB_OK']='True'\n",
    "from langchain.text_splitter import MarkdownHeaderTextSplitter\n",
    "from langchain_huggingface import HuggingFaceEmbeddings\n",
    "from langchain.vectorstores import Chroma\n",
    "from langchain.docstore.document import Document"
   ]
  },
  {
   "cell_type": "code",
   "execution_count": 2,
   "id": "16523e5f-ecef-4a5a-bdcd-72bdbf5de2ee",
   "metadata": {},
   "outputs": [],
   "source": [
    "# Step 1 - Load your Markdown text (from file or string)\n",
    "with open(\"../2_JSON To Markdown/hotels.md\", \"r\", encoding=\"utf-8\") as file:\n",
    "    markdown_text = file.read()\n",
    "\n",
    "# Step 2 - Chunk the markdown using header-based splitter\n",
    "splitter = MarkdownHeaderTextSplitter(\n",
    "    headers_to_split_on=[\n",
    "        (\"#\", \"Hotel Name\"),\n",
    "        (\"##\", \"Section\"),\n",
    "        (\"###\", \"Review\")\n",
    "    ]\n",
    ")\n",
    "documents: list[Document] = splitter.split_text(markdown_text)"
   ]
  },
  {
   "cell_type": "code",
   "execution_count": 3,
   "id": "d5a32977-14a0-44d5-914d-713c078b8bfa",
   "metadata": {},
   "outputs": [
    {
     "name": "stdout",
     "output_type": "stream",
     "text": [
      "WARNING:tensorflow:From C:\\Users\\Mega-PC\\anaconda3\\Lib\\site-packages\\tf_keras\\src\\losses.py:2976: The name tf.losses.sparse_softmax_cross_entropy is deprecated. Please use tf.compat.v1.losses.sparse_softmax_cross_entropy instead.\n",
      "\n"
     ]
    }
   ],
   "source": [
    "# Step 3 - Use HuggingFace Embeddings (compatible with Groq)\n",
    "embedding = HuggingFaceEmbeddings(model_name=\"all-MiniLM-L6-v2\")"
   ]
  },
  {
   "cell_type": "code",
   "execution_count": 4,
   "id": "522d3d80-6c4a-4915-bb23-4bd0051d1d6f",
   "metadata": {},
   "outputs": [],
   "source": [
    "# Step 4 - Store chunks in Chroma\n",
    "vectorstore = Chroma.from_documents(documents, embedding, persist_directory=\"chroma_store\")"
   ]
  },
  {
   "cell_type": "code",
   "execution_count": 5,
   "id": "d2d7ba76-1344-4e55-a18d-1acb29fc0f64",
   "metadata": {},
   "outputs": [
    {
     "name": "stdout",
     "output_type": "stream",
     "text": [
      "✅ Vector storage created and persisted.\n"
     ]
    },
    {
     "name": "stderr",
     "output_type": "stream",
     "text": [
      "C:\\Users\\Mega-PC\\AppData\\Local\\Temp\\ipykernel_9700\\361357290.py:2: LangChainDeprecationWarning: Since Chroma 0.4.x the manual persistence method is no longer supported as docs are automatically persisted.\n",
      "  vectorstore.persist()\n"
     ]
    }
   ],
   "source": [
    "# Step 5 - Persist vector store\n",
    "vectorstore.persist()\n",
    "\n",
    "print(\"✅ Vector storage created and persisted.\")"
   ]
  },
  {
   "cell_type": "markdown",
   "id": "74963b12-6f50-4fec-80cc-79893cec7b30",
   "metadata": {},
   "source": [
    "# Example"
   ]
  },
  {
   "cell_type": "code",
   "execution_count": 7,
   "id": "32e2721e-53a9-4c64-b299-fb3a426c00eb",
   "metadata": {},
   "outputs": [
    {
     "name": "stderr",
     "output_type": "stream",
     "text": [
      "C:\\Users\\Mega-PC\\AppData\\Local\\Temp\\ipykernel_9700\\2888227840.py:2: LangChainDeprecationWarning: The class `Chroma` was deprecated in LangChain 0.2.9 and will be removed in 1.0. An updated version of the class exists in the :class:`~langchain-chroma package and should be used instead. To use it run `pip install -U :class:`~langchain-chroma` and import as `from :class:`~langchain_chroma import Chroma``.\n",
      "  vectorstore = Chroma(persist_directory=\"chroma_store\", embedding_function=embedding)\n"
     ]
    }
   ],
   "source": [
    "# Reload vector store\n",
    "vectorstore = Chroma(persist_directory=\"chroma_store\", embedding_function=embedding)"
   ]
  },
  {
   "cell_type": "code",
   "execution_count": 8,
   "id": "bf5047c8-84f5-4aa4-ab9c-cef9225e51fc",
   "metadata": {},
   "outputs": [],
   "source": [
    "# Example: Get chunks for a specific hotel\n",
    "retrieved_docs = vectorstore.similarity_search_with_relevance_scores(\n",
    "    query=\"The Residence Tunis\",\n",
    "    k=5  # Or more, depending on recall needed\n",
    ")"
   ]
  },
  {
   "cell_type": "code",
   "execution_count": 9,
   "id": "1ad9cd6f-ebe4-436a-a46e-e2bea153038f",
   "metadata": {},
   "outputs": [
    {
     "name": "stdout",
     "output_type": "stream",
     "text": [
      "🧩 Chunk:\n",
      " **Rating**: 5.0\n",
      "**Date**: Apr 2025\n",
      "**Title**: Excellent family holiday\n",
      "**Text**: The Residence is an institution in Tunis with a high quality service. Everyone is taking care of you to please you.  Large rooms with very comfortable beds, very good Spa with sauna/hammam and small gym.  Breakfast is very complete and excellent, the Tunisian restaurant is also delicious.  For the kids the kids club leaders are adorable they had a memorable stay A big thank you to the entire Residence team!  \n",
      "---\n",
      "📌 Metadata: {'Hotel Name': 'Hotel Name: The Residence Tunis', 'Review': '🔸 Review 8', 'Section': '💬 Reviews'}\n",
      "==================================================\n"
     ]
    }
   ],
   "source": [
    "# Filter only those that belong to the correct hotel\n",
    "filtered = [doc for doc, score in retrieved_docs if \"The Residence Tunis\" in doc.metadata.get(\"Hotel Name\", \"\")]\n",
    "\n",
    "# Output filtered chunks\n",
    "for doc in filtered:\n",
    "    print(\"🧩 Chunk:\\n\", doc.page_content)\n",
    "    print(\"📌 Metadata:\", doc.metadata)\n",
    "    print(\"=\" * 50)"
   ]
  },
  {
   "cell_type": "code",
   "execution_count": null,
   "id": "2de210b0-53e2-4958-9ae2-1ea952222db8",
   "metadata": {},
   "outputs": [],
   "source": []
  }
 ],
 "metadata": {
  "kernelspec": {
   "display_name": "Python 3 (ipykernel)",
   "language": "python",
   "name": "python3"
  },
  "language_info": {
   "codemirror_mode": {
    "name": "ipython",
    "version": 3
   },
   "file_extension": ".py",
   "mimetype": "text/x-python",
   "name": "python",
   "nbconvert_exporter": "python",
   "pygments_lexer": "ipython3",
   "version": "3.12.3"
  }
 },
 "nbformat": 4,
 "nbformat_minor": 5
}
