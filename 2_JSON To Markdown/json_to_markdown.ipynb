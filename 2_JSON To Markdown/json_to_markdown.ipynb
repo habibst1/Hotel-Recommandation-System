{
 "cells": [
  {
   "cell_type": "code",
   "execution_count": 1,
   "id": "390c0ef0-7fca-46c3-9fb1-b30f7dc562a8",
   "metadata": {},
   "outputs": [
    {
     "name": "stdout",
     "output_type": "stream",
     "text": [
      "✅ Converted 169 hotels to a single Markdown file: hotels.md\n"
     ]
    }
   ],
   "source": [
    "import json\n",
    "import os\n",
    "\n",
    "def format_markdown(hotel):\n",
    "    lines = []\n",
    "    lines.append(f\"# Hotel Name: {hotel['name']}\")\n",
    "    lines.append(f\"**Country**: {hotel['country']}\")\n",
    "    lines.append(f\"**Location**: {hotel['location']}\")\n",
    "    lines.append(f\"**Rating**: {hotel['rating']}\")\n",
    "    lines.append(f\"**Number of Reviews**: {hotel['num_reviews']}\")\n",
    "    lines.append(f\"**Hotel Class**: {hotel['hotel_class']}\")\n",
    "    lines.append(f\"**Hotel Style**: {', '.join(hotel.get('hotel_style', []))}\")\n",
    "    lines.append(f\"**Languages Spoken**: {', '.join(hotel.get('languages_spoken', []))}\")\n",
    "    lines.append(f\"**Link**: [TripAdvisor Page]({hotel['link']})\")\n",
    "    lines.append(\"\\n---\\n\")\n",
    "\n",
    "    # Description\n",
    "    lines.append(\"## 📝 Description\")\n",
    "    lines.append(hotel[\"description\"].strip())\n",
    "    lines.append(\"\\n---\\n\")\n",
    "\n",
    "    # Amenities\n",
    "    lines.append(\"## 🛎️ Property Amenities\")\n",
    "    for amenity in hotel.get(\"property_amenities\", []):\n",
    "        lines.append(f\"- {amenity}\")\n",
    "    lines.append(\"\\n---\\n\")\n",
    "\n",
    "    # Room Features\n",
    "    lines.append(\"## 🛏️ Room Features\")\n",
    "    for feature in hotel.get(\"room_features\", []):\n",
    "        lines.append(f\"- {feature}\")\n",
    "    lines.append(\"\\n---\\n\")\n",
    "\n",
    "    # Room Types\n",
    "    lines.append(\"## 🛌 Room Types\")\n",
    "    for room_type in hotel.get(\"room_types\", []):\n",
    "        lines.append(f\"- {room_type}\")\n",
    "    lines.append(\"\\n---\\n\")\n",
    "\n",
    "    # Reviews\n",
    "    lines.append(\"## 💬 Reviews\")\n",
    "    for i, review in enumerate(hotel.get(\"reviews\", []), 1):\n",
    "        lines.append(f\"### 🔸 Review {i}\")\n",
    "        lines.append(f\"**Rating**: {review.get('review_rating', 'N/A')}\")\n",
    "        lines.append(f\"**Date**: {review.get('date_visited', 'N/A')}\")\n",
    "        lines.append(f\"**Title**: {review.get('review_title', '').strip()}\")\n",
    "        lines.append(f\"**Text**: {review.get('review_text', '').strip()}\")\n",
    "        lines.append(\"\\n---\\n\")\n",
    "\n",
    "    return \"\\n\".join(lines)\n",
    "\n",
    "\n",
    "def convert_json_to_markdown(json_path, output_filename):\n",
    "    with open(json_path, 'r', encoding='utf-8') as f:\n",
    "        hotels = json.load(f)\n",
    "    \n",
    "    # Open the file once and write all hotels\n",
    "    with open(output_filename, 'w', encoding='utf-8') as md_file:\n",
    "        # Optional: Add a header for the entire document\n",
    "        \n",
    "        for i, hotel in enumerate(hotels, 1):\n",
    "            # Add a counter/number for each hotel\n",
    "            md_content = format_markdown(hotel)\n",
    "            md_file.write(md_content)\n",
    "            md_file.write(\"\\n\\n\")  # Extra spacing between hotels\n",
    "\n",
    "    print(f\"✅ Converted {len(hotels)} hotels to a single Markdown file: {output_filename}\")\n",
    "\n",
    "# Example usage\n",
    "if __name__ == \"__main__\":\n",
    "    convert_json_to_markdown(\n",
    "        \"../1_Scraping and Filtering/44_hotels_details_reviews_filtered.json\", \n",
    "        \"hotels.md\"\n",
    "    )"
   ]
  },
  {
   "cell_type": "code",
   "execution_count": null,
   "id": "967d14e5-c10a-44ba-898d-6579254b7f32",
   "metadata": {},
   "outputs": [],
   "source": []
  }
 ],
 "metadata": {
  "kernelspec": {
   "display_name": "Python 3 (ipykernel)",
   "language": "python",
   "name": "python3"
  },
  "language_info": {
   "codemirror_mode": {
    "name": "ipython",
    "version": 3
   },
   "file_extension": ".py",
   "mimetype": "text/x-python",
   "name": "python",
   "nbconvert_exporter": "python",
   "pygments_lexer": "ipython3",
   "version": "3.12.3"
  }
 },
 "nbformat": 4,
 "nbformat_minor": 5
}
